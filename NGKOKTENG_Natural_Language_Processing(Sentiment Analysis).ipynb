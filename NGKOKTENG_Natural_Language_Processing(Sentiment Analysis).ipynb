{
  "nbformat": 4,
  "nbformat_minor": 0,
  "metadata": {
    "colab": {
      "name": "NLP_Assignment_2.ipynb",
      "provenance": [],
      "collapsed_sections": [],
      "machine_shape": "hm"
    },
    "kernelspec": {
      "name": "python3",
      "display_name": "Python 3"
    },
    "language_info": {
      "name": "python"
    },
    "accelerator": "GPU"
  },
  "cells": [
    {
      "cell_type": "markdown",
      "metadata": {
        "id": "_SXxm8U1qr5K"
      },
      "source": [
        "#Set up and Import dependencies"
      ]
    },
    {
      "cell_type": "code",
      "metadata": {
        "colab": {
          "base_uri": "https://localhost:8080/"
        },
        "id": "5Fnk2VWBsTIM",
        "outputId": "2df57469-54f3-46b3-9184-15946ee20363"
      },
      "source": [
        "gpu_info = !nvidia-smi\n",
        "gpu_info = '\\n'.join(gpu_info)\n",
        "if gpu_info.find('failed') >= 0:\n",
        "  print('Select the Runtime > \"Change runtime type\" menu to enable a GPU accelerator, ')\n",
        "  print('and then re-execute this cell.')\n",
        "else:\n",
        "  print(gpu_info)"
      ],
      "execution_count": null,
      "outputs": [
        {
          "output_type": "stream",
          "text": [
            "Fri Jun 18 04:17:06 2021       \n",
            "+-----------------------------------------------------------------------------+\n",
            "| NVIDIA-SMI 465.27       Driver Version: 460.32.03    CUDA Version: 11.2     |\n",
            "|-------------------------------+----------------------+----------------------+\n",
            "| GPU  Name        Persistence-M| Bus-Id        Disp.A | Volatile Uncorr. ECC |\n",
            "| Fan  Temp  Perf  Pwr:Usage/Cap|         Memory-Usage | GPU-Util  Compute M. |\n",
            "|                               |                      |               MIG M. |\n",
            "|===============================+======================+======================|\n",
            "|   0  Tesla V100-SXM2...  Off  | 00000000:00:04.0 Off |                    0 |\n",
            "| N/A   38C    P0    24W / 300W |      0MiB / 16160MiB |      0%      Default |\n",
            "|                               |                      |                  N/A |\n",
            "+-------------------------------+----------------------+----------------------+\n",
            "                                                                               \n",
            "+-----------------------------------------------------------------------------+\n",
            "| Processes:                                                                  |\n",
            "|  GPU   GI   CI        PID   Type   Process name                  GPU Memory |\n",
            "|        ID   ID                                                   Usage      |\n",
            "|=============================================================================|\n",
            "|  No running processes found                                                 |\n",
            "+-----------------------------------------------------------------------------+\n"
          ],
          "name": "stdout"
        }
      ]
    },
    {
      "cell_type": "code",
      "metadata": {
        "colab": {
          "base_uri": "https://localhost:8080/"
        },
        "id": "GpJXG1jMsUwY",
        "outputId": "fb73943e-787f-43c2-b60d-c1a25c72952c"
      },
      "source": [
        "from psutil import virtual_memory\n",
        "ram_gb = virtual_memory().total / 1e9\n",
        "print('Your runtime has {:.1f} gigabytes of available RAM\\n'.format(ram_gb))\n",
        "\n",
        "if ram_gb < 20:\n",
        "  print('To enable a high-RAM runtime, select the Runtime > \"Change runtime type\"')\n",
        "  print('menu, and then select High-RAM in the Runtime shape dropdown. Then, ')\n",
        "  print('re-execute this cell.')\n",
        "else:\n",
        "  print('You are using a high-RAM runtime!')"
      ],
      "execution_count": null,
      "outputs": [
        {
          "output_type": "stream",
          "text": [
            "Your runtime has 27.3 gigabytes of available RAM\n",
            "\n",
            "You are using a high-RAM runtime!\n"
          ],
          "name": "stdout"
        }
      ]
    },
    {
      "cell_type": "code",
      "metadata": {
        "id": "Z6_BZguK8utP",
        "colab": {
          "base_uri": "https://localhost:8080/"
        },
        "outputId": "741f26b5-297f-4388-fad6-85b50315669d"
      },
      "source": [
        "pip install bs4 "
      ],
      "execution_count": null,
      "outputs": [
        {
          "output_type": "stream",
          "text": [
            "Requirement already satisfied: bs4 in /usr/local/lib/python3.7/dist-packages (0.0.1)\n",
            "Requirement already satisfied: beautifulsoup4 in /usr/local/lib/python3.7/dist-packages (from bs4) (4.6.3)\n"
          ],
          "name": "stdout"
        }
      ]
    },
    {
      "cell_type": "code",
      "metadata": {
        "colab": {
          "base_uri": "https://localhost:8080/"
        },
        "id": "jG8QJSEttd0k",
        "outputId": "c7cfe169-8cb5-4e0e-96ca-d5b982b63032"
      },
      "source": [
        "pip install google_trans_new"
      ],
      "execution_count": null,
      "outputs": [
        {
          "output_type": "stream",
          "text": [
            "Collecting google_trans_new\n",
            "  Downloading https://files.pythonhosted.org/packages/f9/7b/9f136106dc5824dc98185c97991d3cd9b53e70a197154dd49f7b899128f6/google_trans_new-1.1.9-py3-none-any.whl\n",
            "Installing collected packages: google-trans-new\n",
            "Successfully installed google-trans-new-1.1.9\n"
          ],
          "name": "stdout"
        }
      ]
    },
    {
      "cell_type": "code",
      "metadata": {
        "colab": {
          "base_uri": "https://localhost:8080/"
        },
        "id": "VJY1RBA8kZYe",
        "outputId": "fd83ca36-25ce-4fd3-9770-4b290a6c81fa"
      },
      "source": [
        "import sys \n",
        "print(sys.version)"
      ],
      "execution_count": null,
      "outputs": [
        {
          "output_type": "stream",
          "text": [
            "3.7.10 (default, May  3 2021, 02:48:31) \n",
            "[GCC 7.5.0]\n"
          ],
          "name": "stdout"
        }
      ]
    },
    {
      "cell_type": "code",
      "metadata": {
        "id": "t6-zUeB3VG0C"
      },
      "source": [
        "import pandas as pd\n",
        "import numpy as np\n",
        "import tensorflow_datasets as tfds \n",
        "import re \n",
        "import tensorflow_hub as hub\n",
        "import tensorflow as tf\n",
        "from tensorflow.keras.layers import Dense, LSTM , Bidirectional , Embedding \n",
        "from tensorflow.keras.models import Model\n",
        "from tensorflow.keras.models import Sequential\n",
        "from gensim.models import Word2Vec\n",
        "import nltk\n",
        "from nltk.corpus import stopwords\n",
        "from bs4 import BeautifulSoup \n",
        "from google_trans_new import google_translator  \n",
        "import matplotlib.pyplot as plt\n",
        "from sklearn.metrics import roc_auc_score , roc_curve"
      ],
      "execution_count": null,
      "outputs": []
    },
    {
      "cell_type": "code",
      "metadata": {
        "colab": {
          "base_uri": "https://localhost:8080/"
        },
        "id": "9dC8J5FPJ3-B",
        "outputId": "701140f7-c700-4f9c-aa90-1b05acbf382e"
      },
      "source": [
        "nltk.download('stopwords')"
      ],
      "execution_count": null,
      "outputs": [
        {
          "output_type": "stream",
          "text": [
            "[nltk_data] Downloading package stopwords to /root/nltk_data...\n",
            "[nltk_data]   Unzipping corpora/stopwords.zip.\n"
          ],
          "name": "stdout"
        },
        {
          "output_type": "execute_result",
          "data": {
            "text/plain": [
              "True"
            ]
          },
          "metadata": {
            "tags": []
          },
          "execution_count": 7
        }
      ]
    },
    {
      "cell_type": "code",
      "metadata": {
        "colab": {
          "base_uri": "https://localhost:8080/"
        },
        "id": "Nv4esycDbjuF",
        "outputId": "2a6fd62e-f9e0-4149-fe6c-65e217f63e00"
      },
      "source": [
        "from google.colab import drive\n",
        "drive.mount('/content/drive')"
      ],
      "execution_count": null,
      "outputs": [
        {
          "output_type": "stream",
          "text": [
            "Mounted at /content/drive\n"
          ],
          "name": "stdout"
        }
      ]
    },
    {
      "cell_type": "markdown",
      "metadata": {
        "id": "CGKcqDXY5g4u"
      },
      "source": [
        "#Define functions "
      ]
    },
    {
      "cell_type": "code",
      "metadata": {
        "id": "j-hWOQOTiJgB"
      },
      "source": [
        "#read textfile \n",
        "def get_data(str):\n",
        "  \"\"\"\n",
        "  read data from text file \n",
        "  \"\"\"\n",
        "  df = pd.read_fwf(str,header=None)\n",
        "  return df \n",
        "\n",
        "\n",
        "\n",
        "#translate foreign languages \n",
        "def translate_foreign_language(df,translator):\n",
        "  \"\"\"detect_foreign_language(df) : \n",
        "  detects foreign language in the dataset \n",
        "  and translates it to English. \n",
        "\n",
        "  Parameters : \n",
        "  df ==> dataset that needs to be translated. \n",
        "  \"\"\"\n",
        "  df_1 = []\n",
        "  for i,line in enumerate(df):\n",
        "    translate_text = translator.translate(line,lang_tgt='en')\n",
        "    df_1.append(translate_text)\n",
        "  return df_1\n",
        "    \n",
        "\n",
        "\n",
        "#check foreign languages \n",
        "def isEnglish(df):\n",
        "  \"\"\"isEnligh(df) : \n",
        "  checks whether the dataset is only in English language \n",
        "\n",
        "  Parameters: \n",
        "  df ==> the dataset that needs to be checked \n",
        "  \"\"\"\n",
        "  count = 0\n",
        "  detector = google_translator()\n",
        "  for line in df:\n",
        "    detect_result = detector.detect(line)\n",
        "    if(detect_result[0] != 'en'):\n",
        "      count += 1 \n",
        "      print(line)\n",
        "  print(\"There are\",count,\"foreign languages detected in the dataset.\")\n",
        "\n",
        "#first stage of preprocessing \n",
        "def preprocessing_1(df):\n",
        "  \"\"\"preprocessing_1(df) : \n",
        "   The first preprocessing stage where this function removes HTML tags, \n",
        "   numerical values, hyperlinks, punctuations \n",
        "\n",
        "   Parameters : \n",
        "   df ==> The dataset that needs to be preprocessed \n",
        "  \"\"\"\n",
        "  df_1 = [] #empty to list to store preprocessed text \n",
        "  #initialize stop words method \n",
        "  stop_words = set(stopwords.words('english'))\n",
        "  for row in df:\n",
        "    row = BeautifulSoup(row).get_text()\n",
        "    row = re.sub(\"[^a-zA-Z]\",' ',row)\n",
        "    row = row.lower()\n",
        "    row = re.sub(r'^https?:\\/\\/.*[\\r\\n]*', '', row, flags=re.MULTILINE)\n",
        "    row = row.split()\n",
        "    row = [w for w in row if w not in stop_words] \n",
        "    row = \" \".join(row)\n",
        "    df_1.append(row)\n",
        "    df_2 = list(filter(None,df_1))\n",
        "  \n",
        "  return df_2\n",
        "\n",
        "#word2vec encoding method \n",
        "def get_word2vec_enc(reviews):\n",
        "    \"\"\"\n",
        "    get word2vec value for each word in sentence.\n",
        "    concatenate word in numpy array, so we can use it as RNN input\n",
        "    \"\"\"\n",
        "    # Load Pretrained Word2Vec\n",
        "    embed = hub.load(\"https://tfhub.dev/google/Wiki-words-250/2\")\n",
        "    encoded_reviews = []\n",
        "    for review in reviews:\n",
        "        tokens = review.split(\" \")\n",
        "        word2vec_embedding = embed(tokens)\n",
        "        encoded_reviews.append(word2vec_embedding)\n",
        "    return encoded_reviews\n",
        "\n",
        "#get max length of the sentences \n",
        "def get_max_length(df):\n",
        "    \"\"\"\n",
        "    get max token counts from train data, \n",
        "    so we use this number as fixed length input to RNN cell\n",
        "    \"\"\"\n",
        "    max_length = 0\n",
        "    for row in df['review']:\n",
        "        if len(row.split(\" \")) > max_length:\n",
        "            max_length = len(row.split(\" \"))\n",
        "    return max_length\n",
        "\n",
        "#pad the sequences \n",
        "def get_padded_encoded_reviews(encoded_reviews,max_length):\n",
        "    \"\"\"\n",
        "    for short sentences, we prepend zero padding so all input to RNN has same length\n",
        "    \"\"\"\n",
        "    padded_reviews_encoding = []\n",
        "    for enc_review in encoded_reviews:\n",
        "        zero_padding_cnt = max_length - enc_review.shape[0]\n",
        "        pad = np.zeros((1, 250))\n",
        "        for i in range(zero_padding_cnt):\n",
        "            enc_review = np.concatenate((pad, enc_review), axis=0)\n",
        "        padded_reviews_encoding.append(enc_review)\n",
        "    return padded_reviews_encoding\n",
        "\n",
        "#encode words into word2vec \n",
        "def preprocess_2(df,str):\n",
        "    \"\"\"\n",
        "    encode training text value to numeric value\n",
        "    parameters : \n",
        "    df ==> dataset \n",
        "    str ==> identification of dataset(training or prediction)\n",
        "    \"\"\"\n",
        "    if (str.lower()==\"training\"):\n",
        "      reviews = df['review'].tolist()\n",
        "      max_length = get_max_length(df)\n",
        "      encoded_reviews = get_word2vec_enc(reviews)\n",
        "      padded_encoded_reviews = get_padded_encoded_reviews(encoded_reviews,max_length)\n",
        "      X = np.array(padded_encoded_reviews)\n",
        "      Y = np.array(df['sentiment'])\n",
        "      return X, Y \n",
        "    elif (str.lower()==\"predictions\"):\n",
        "      reviews = df['review'].tolist()\n",
        "      max_length = get_max_length(data_preprocessed_1)\n",
        "      encoded_reviews = get_word2vec_enc(reviews)\n",
        "      padded_encoded_reviews = get_padded_encoded_reviews(encoded_reviews,max_length)\n",
        "      X = np.array(padded_encoded_reviews)\n",
        "      return X\n",
        "    else :\n",
        "      print(\"Error : Input should be either 'training' or 'predictions'\")\n",
        " \n",
        "\n",
        "def round_off(x):\n",
        "  return np.round(x)\n",
        "\n",
        "\n",
        "def count(df):\n",
        "  count1 = 0\n",
        "  count2 = 0\n",
        "  for elem in df:\n",
        "    if (elem==1):\n",
        "      count1 +=1 \n",
        "    elif (elem==0):\n",
        "      count2+=1\n",
        "  return count1 , count2 \n",
        "\n",
        "\n",
        "\n",
        "\n"
      ],
      "execution_count": null,
      "outputs": []
    },
    {
      "cell_type": "markdown",
      "metadata": {
        "id": "UkPL7Zurt8-Q"
      },
      "source": [
        "#Pre-process the training dataset"
      ]
    },
    {
      "cell_type": "markdown",
      "metadata": {
        "id": "rlkp4FjpvwRW"
      },
      "source": [
        "load the dataset"
      ]
    },
    {
      "cell_type": "code",
      "metadata": {
        "id": "EhjFeqgq6yCG"
      },
      "source": [
        "#training datset\n",
        "data = pd.read_csv(\"/content/drive/MyDrive/Taylors/assignments/NLP/assignment 1/data/dataset-primary/labeledTrainData.tsv/labeledTrainData.tsv\",sep=\"\\t\")"
      ],
      "execution_count": null,
      "outputs": []
    },
    {
      "cell_type": "code",
      "metadata": {
        "id": "Pgz9fm6HpvxI"
      },
      "source": [
        "#only use 1000 rows from the dataset \n",
        "data = data[0:1000]"
      ],
      "execution_count": null,
      "outputs": []
    },
    {
      "cell_type": "code",
      "metadata": {
        "colab": {
          "base_uri": "https://localhost:8080/",
          "height": 206
        },
        "id": "Dm8ItB5ov2ZF",
        "outputId": "3e103f91-e9e5-4f77-e75a-63a5fed3852d"
      },
      "source": [
        "#data before preprocessing \n",
        "data.head()"
      ],
      "execution_count": null,
      "outputs": [
        {
          "output_type": "execute_result",
          "data": {
            "text/html": [
              "<div>\n",
              "<style scoped>\n",
              "    .dataframe tbody tr th:only-of-type {\n",
              "        vertical-align: middle;\n",
              "    }\n",
              "\n",
              "    .dataframe tbody tr th {\n",
              "        vertical-align: top;\n",
              "    }\n",
              "\n",
              "    .dataframe thead th {\n",
              "        text-align: right;\n",
              "    }\n",
              "</style>\n",
              "<table border=\"1\" class=\"dataframe\">\n",
              "  <thead>\n",
              "    <tr style=\"text-align: right;\">\n",
              "      <th></th>\n",
              "      <th>id</th>\n",
              "      <th>sentiment</th>\n",
              "      <th>review</th>\n",
              "    </tr>\n",
              "  </thead>\n",
              "  <tbody>\n",
              "    <tr>\n",
              "      <th>0</th>\n",
              "      <td>5814_8</td>\n",
              "      <td>1</td>\n",
              "      <td>With all this stuff going down at the moment w...</td>\n",
              "    </tr>\n",
              "    <tr>\n",
              "      <th>1</th>\n",
              "      <td>2381_9</td>\n",
              "      <td>1</td>\n",
              "      <td>\\The Classic War of the Worlds\\\" by Timothy Hi...</td>\n",
              "    </tr>\n",
              "    <tr>\n",
              "      <th>2</th>\n",
              "      <td>7759_3</td>\n",
              "      <td>0</td>\n",
              "      <td>The film starts with a manager (Nicholas Bell)...</td>\n",
              "    </tr>\n",
              "    <tr>\n",
              "      <th>3</th>\n",
              "      <td>3630_4</td>\n",
              "      <td>0</td>\n",
              "      <td>It must be assumed that those who praised this...</td>\n",
              "    </tr>\n",
              "    <tr>\n",
              "      <th>4</th>\n",
              "      <td>9495_8</td>\n",
              "      <td>1</td>\n",
              "      <td>Superbly trashy and wondrously unpretentious 8...</td>\n",
              "    </tr>\n",
              "  </tbody>\n",
              "</table>\n",
              "</div>"
            ],
            "text/plain": [
              "       id  sentiment                                             review\n",
              "0  5814_8          1  With all this stuff going down at the moment w...\n",
              "1  2381_9          1  \\The Classic War of the Worlds\\\" by Timothy Hi...\n",
              "2  7759_3          0  The film starts with a manager (Nicholas Bell)...\n",
              "3  3630_4          0  It must be assumed that those who praised this...\n",
              "4  9495_8          1  Superbly trashy and wondrously unpretentious 8..."
            ]
          },
          "metadata": {
            "tags": []
          },
          "execution_count": 12
        }
      ]
    },
    {
      "cell_type": "code",
      "metadata": {
        "colab": {
          "base_uri": "https://localhost:8080/"
        },
        "id": "U2zHLSSgWDmV",
        "outputId": "8b62a4aa-a6ea-48f6-95e9-718ccf6c6f43"
      },
      "source": [
        "isEnglish(data)"
      ],
      "execution_count": null,
      "outputs": [
        {
          "output_type": "stream",
          "text": [
            "There are 0 foreign languages detected in the dataset.\n"
          ],
          "name": "stdout"
        }
      ]
    },
    {
      "cell_type": "code",
      "metadata": {
        "colab": {
          "base_uri": "https://localhost:8080/"
        },
        "id": "Me7D0cbLZz6h",
        "outputId": "3f5370e9-9990-47da-bffd-c020b9b8cc1b"
      },
      "source": [
        "data.isnull().sum()"
      ],
      "execution_count": null,
      "outputs": [
        {
          "output_type": "execute_result",
          "data": {
            "text/plain": [
              "id           0\n",
              "sentiment    0\n",
              "review       0\n",
              "dtype: int64"
            ]
          },
          "metadata": {
            "tags": []
          },
          "execution_count": 32
        }
      ]
    },
    {
      "cell_type": "code",
      "metadata": {
        "id": "NXZAriGYM9yp"
      },
      "source": [
        "df = preprocessing_1(data['review'])"
      ],
      "execution_count": null,
      "outputs": []
    },
    {
      "cell_type": "code",
      "metadata": {
        "id": "w5Zgh_ueNFqV"
      },
      "source": [
        "df = pd.DataFrame(df) "
      ],
      "execution_count": null,
      "outputs": []
    },
    {
      "cell_type": "code",
      "metadata": {
        "id": "jnlMc6tUNVQN"
      },
      "source": [
        "#create a dataframe to store preprocessed training data \n",
        "data_preprocessed_1 = pd.DataFrame()\n",
        "data_preprocessed_1['sentiment'] = data['sentiment'] \n",
        "data_preprocessed_1['review'] = df "
      ],
      "execution_count": null,
      "outputs": []
    },
    {
      "cell_type": "code",
      "metadata": {
        "colab": {
          "base_uri": "https://localhost:8080/",
          "height": 206
        },
        "id": "kYDKsH-UNqCn",
        "outputId": "4831b69f-93b7-4cde-ff19-c1f826da298a"
      },
      "source": [
        "#sample of the preprocessed training data \n",
        "data_preprocessed_1.head()"
      ],
      "execution_count": null,
      "outputs": [
        {
          "output_type": "execute_result",
          "data": {
            "text/html": [
              "<div>\n",
              "<style scoped>\n",
              "    .dataframe tbody tr th:only-of-type {\n",
              "        vertical-align: middle;\n",
              "    }\n",
              "\n",
              "    .dataframe tbody tr th {\n",
              "        vertical-align: top;\n",
              "    }\n",
              "\n",
              "    .dataframe thead th {\n",
              "        text-align: right;\n",
              "    }\n",
              "</style>\n",
              "<table border=\"1\" class=\"dataframe\">\n",
              "  <thead>\n",
              "    <tr style=\"text-align: right;\">\n",
              "      <th></th>\n",
              "      <th>sentiment</th>\n",
              "      <th>review</th>\n",
              "    </tr>\n",
              "  </thead>\n",
              "  <tbody>\n",
              "    <tr>\n",
              "      <th>0</th>\n",
              "      <td>1</td>\n",
              "      <td>stuff going moment mj started listening music ...</td>\n",
              "    </tr>\n",
              "    <tr>\n",
              "      <th>1</th>\n",
              "      <td>1</td>\n",
              "      <td>classic war worlds timothy hines entertaining ...</td>\n",
              "    </tr>\n",
              "    <tr>\n",
              "      <th>2</th>\n",
              "      <td>0</td>\n",
              "      <td>film starts manager nicholas bell giving welco...</td>\n",
              "    </tr>\n",
              "    <tr>\n",
              "      <th>3</th>\n",
              "      <td>0</td>\n",
              "      <td>must assumed praised film greatest filmed oper...</td>\n",
              "    </tr>\n",
              "    <tr>\n",
              "      <th>4</th>\n",
              "      <td>1</td>\n",
              "      <td>superbly trashy wondrously unpretentious explo...</td>\n",
              "    </tr>\n",
              "  </tbody>\n",
              "</table>\n",
              "</div>"
            ],
            "text/plain": [
              "   sentiment                                             review\n",
              "0          1  stuff going moment mj started listening music ...\n",
              "1          1  classic war worlds timothy hines entertaining ...\n",
              "2          0  film starts manager nicholas bell giving welco...\n",
              "3          0  must assumed praised film greatest filmed oper...\n",
              "4          1  superbly trashy wondrously unpretentious explo..."
            ]
          },
          "metadata": {
            "tags": []
          },
          "execution_count": 23
        }
      ]
    },
    {
      "cell_type": "code",
      "metadata": {
        "id": "fGLZHgqw3HNM"
      },
      "source": [
        "X , y = preprocess_2(data_preprocessed_1,\"training\")"
      ],
      "execution_count": null,
      "outputs": []
    },
    {
      "cell_type": "code",
      "metadata": {
        "id": "5v7tCX1YGZMs"
      },
      "source": [
        "#find training data size and testing data size \n",
        "train_size = int(len(data_preprocessed_1) * 0.7) \n",
        "test_size = int(len(data_preprocessed_1) - train_size) \n",
        "X_train = X[0:train_size]\n",
        "X_test = X[train_size:]\n",
        "y_train = y[0:train_size]\n",
        "y_test = y[train_size:]"
      ],
      "execution_count": null,
      "outputs": []
    },
    {
      "cell_type": "code",
      "metadata": {
        "colab": {
          "base_uri": "https://localhost:8080/"
        },
        "id": "bXbZGCvp4Sbg",
        "outputId": "44edf5c7-7f88-41cd-b09a-163c9fb56342"
      },
      "source": [
        "#shape of training and testing datasets \n",
        "print(\"Training size ==>\",train_size)\n",
        "print(\"Testing size ==>\",test_size)\n",
        "print(\"Shape of X_train==>\",X_train.shape)\n",
        "print(\"Shape of y_train ==>\",y_train.shape)\n",
        "print(\"Shape of X_test==>\",X_test.shape)\n",
        "print(\"Shape of y_test ==>\",y_test.shape)"
      ],
      "execution_count": null,
      "outputs": [
        {
          "output_type": "stream",
          "text": [
            "Training size ==> 700\n",
            "Testing size ==> 300\n",
            "Shape of X_train==> (700, 558, 250)\n",
            "Shape of y_train ==> (700,)\n",
            "Shape of X_test==> (300, 558, 250)\n",
            "Shape of y_test ==> (300,)\n"
          ],
          "name": "stdout"
        }
      ]
    },
    {
      "cell_type": "code",
      "metadata": {
        "colab": {
          "base_uri": "https://localhost:8080/"
        },
        "id": "dRt8lmM7eISZ",
        "outputId": "334e4882-ab62-4a69-e4fa-33473e1163be"
      },
      "source": [
        "X_test"
      ],
      "execution_count": null,
      "outputs": [
        {
          "output_type": "execute_result",
          "data": {
            "text/plain": [
              "array([[[ 0.        ,  0.        ,  0.        , ...,  0.        ,\n",
              "          0.        ,  0.        ],\n",
              "        [ 0.        ,  0.        ,  0.        , ...,  0.        ,\n",
              "          0.        ,  0.        ],\n",
              "        [ 0.        ,  0.        ,  0.        , ...,  0.        ,\n",
              "          0.        ,  0.        ],\n",
              "        ...,\n",
              "        [-0.07588305, -0.09483378,  0.06895591, ..., -0.02515614,\n",
              "          0.06868097, -0.03088493],\n",
              "        [ 0.0042055 , -0.09185704,  0.04232814, ...,  0.03552533,\n",
              "          0.0508754 ,  0.01413414],\n",
              "        [-0.06695258, -0.07236093, -0.02306525, ..., -0.10517108,\n",
              "         -0.03864121,  0.00326741]],\n",
              "\n",
              "       [[ 0.        ,  0.        ,  0.        , ...,  0.        ,\n",
              "          0.        ,  0.        ],\n",
              "        [ 0.        ,  0.        ,  0.        , ...,  0.        ,\n",
              "          0.        ,  0.        ],\n",
              "        [ 0.        ,  0.        ,  0.        , ...,  0.        ,\n",
              "          0.        ,  0.        ],\n",
              "        ...,\n",
              "        [-0.08633253, -0.09760925,  0.01991028, ...,  0.01802623,\n",
              "          0.0807295 , -0.05756066],\n",
              "        [ 0.00963122,  0.00226214,  0.1080826 , ...,  0.00952026,\n",
              "         -0.05180882,  0.06764192],\n",
              "        [ 0.02618847, -0.00453294,  0.10077096, ...,  0.00674354,\n",
              "          0.04637577, -0.03753868]],\n",
              "\n",
              "       [[ 0.        ,  0.        ,  0.        , ...,  0.        ,\n",
              "          0.        ,  0.        ],\n",
              "        [ 0.        ,  0.        ,  0.        , ...,  0.        ,\n",
              "          0.        ,  0.        ],\n",
              "        [ 0.        ,  0.        ,  0.        , ...,  0.        ,\n",
              "          0.        ,  0.        ],\n",
              "        ...,\n",
              "        [-0.11498265, -0.04141401,  0.00523956, ..., -0.02243922,\n",
              "         -0.08047453, -0.04696699],\n",
              "        [-0.10144933, -0.00445461,  0.01811409, ...,  0.00312432,\n",
              "          0.03470119, -0.03621012],\n",
              "        [-0.10334404, -0.00232762,  0.07921121, ...,  0.00511658,\n",
              "         -0.05261727, -0.00764035]],\n",
              "\n",
              "       ...,\n",
              "\n",
              "       [[ 0.        ,  0.        ,  0.        , ...,  0.        ,\n",
              "          0.        ,  0.        ],\n",
              "        [ 0.        ,  0.        ,  0.        , ...,  0.        ,\n",
              "          0.        ,  0.        ],\n",
              "        [ 0.        ,  0.        ,  0.        , ...,  0.        ,\n",
              "          0.        ,  0.        ],\n",
              "        ...,\n",
              "        [-0.1023583 , -0.09162785,  0.11298165, ..., -0.03232015,\n",
              "          0.04028087, -0.02876335],\n",
              "        [ 0.01297346,  0.01196714,  0.0449269 , ...,  0.12094747,\n",
              "          0.03981104,  0.05089326],\n",
              "        [-0.10714074, -0.01465583, -0.01239273, ..., -0.04458044,\n",
              "         -0.05723985, -0.0077543 ]],\n",
              "\n",
              "       [[ 0.        ,  0.        ,  0.        , ...,  0.        ,\n",
              "          0.        ,  0.        ],\n",
              "        [ 0.        ,  0.        ,  0.        , ...,  0.        ,\n",
              "          0.        ,  0.        ],\n",
              "        [ 0.        ,  0.        ,  0.        , ...,  0.        ,\n",
              "          0.        ,  0.        ],\n",
              "        ...,\n",
              "        [-0.0422163 , -0.03057545,  0.04190969, ..., -0.0403919 ,\n",
              "         -0.00368861,  0.0356084 ],\n",
              "        [-0.12378563,  0.07696564, -0.01292993, ...,  0.08189107,\n",
              "         -0.12079473, -0.00540233],\n",
              "        [-0.01609791,  0.04583324,  0.00677062, ...,  0.03010949,\n",
              "          0.09785397, -0.12353062]],\n",
              "\n",
              "       [[ 0.        ,  0.        ,  0.        , ...,  0.        ,\n",
              "          0.        ,  0.        ],\n",
              "        [ 0.        ,  0.        ,  0.        , ...,  0.        ,\n",
              "          0.        ,  0.        ],\n",
              "        [ 0.        ,  0.        ,  0.        , ...,  0.        ,\n",
              "          0.        ,  0.        ],\n",
              "        ...,\n",
              "        [ 0.03881768,  0.01014104, -0.00463285, ..., -0.07672232,\n",
              "         -0.06025903,  0.02415839],\n",
              "        [-0.06897459,  0.03959905, -0.06481922, ..., -0.01850728,\n",
              "         -0.07753056, -0.0091741 ],\n",
              "        [-0.01819851, -0.13161649, -0.09088534, ...,  0.02489519,\n",
              "          0.06740832,  0.06166575]]])"
            ]
          },
          "metadata": {
            "tags": []
          },
          "execution_count": 36
        }
      ]
    },
    {
      "cell_type": "markdown",
      "metadata": {
        "id": "-Kdu-4Ck7hq-"
      },
      "source": [
        "#Pre-process data for prediction "
      ]
    },
    {
      "cell_type": "code",
      "metadata": {
        "id": "qVTlhAsfWG3m"
      },
      "source": [
        "watchmen_review = get_data(\"/content/drive/MyDrive/Taylors/assignments/NLP/assignment 2/data/watchmen.txt\")"
      ],
      "execution_count": null,
      "outputs": []
    },
    {
      "cell_type": "code",
      "metadata": {
        "id": "m-dzxT9sW5KZ"
      },
      "source": [
        "interstellar_review = get_data(\"/content/drive/MyDrive/Taylors/assignments/NLP/assignment 2/data/interstellar_2014.txt\")"
      ],
      "execution_count": null,
      "outputs": []
    },
    {
      "cell_type": "code",
      "metadata": {
        "id": "dSqQpUjWrZXG"
      },
      "source": [
        "love_and_monsters_review = get_data(\"/content/drive/MyDrive/Taylors/assignments/NLP/assignment 2/data/love_and_monsters.txt\")"
      ],
      "execution_count": null,
      "outputs": []
    },
    {
      "cell_type": "code",
      "metadata": {
        "id": "ziGr_mPnrgcD"
      },
      "source": [
        "john_wick_reviews = get_data(\"/content/drive/MyDrive/Taylors/assignments/NLP/assignment 2/data/john_wick.txt\")"
      ],
      "execution_count": null,
      "outputs": []
    },
    {
      "cell_type": "code",
      "metadata": {
        "id": "5CWxIU4mroEX"
      },
      "source": [
        "mortal_kombat_reviews = get_data(\"/content/drive/MyDrive/Taylors/assignments/NLP/assignment 2/data/mortal_kombat_2021.txt\")"
      ],
      "execution_count": null,
      "outputs": []
    },
    {
      "cell_type": "code",
      "metadata": {
        "id": "VqAMhfBVruYd"
      },
      "source": [
        "spiderman_homecoming_reviews = get_data(\"/content/drive/MyDrive/Taylors/assignments/NLP/assignment 2/data/spider_man_homecoming.txt\")"
      ],
      "execution_count": null,
      "outputs": []
    },
    {
      "cell_type": "code",
      "metadata": {
        "id": "oGc_YF9cr0kd"
      },
      "source": [
        "army_of_dead_reviews = get_data(\"/content/drive/MyDrive/Taylors/assignments/NLP/assignment 2/data/the_army_of_dead.txt\")"
      ],
      "execution_count": null,
      "outputs": []
    },
    {
      "cell_type": "code",
      "metadata": {
        "id": "jVIlXnevsNNL"
      },
      "source": [
        "dark_knight_reviews = get_data(\"/content/drive/MyDrive/Taylors/assignments/NLP/assignment 2/data/the_dark_knight_review.txt\")"
      ],
      "execution_count": null,
      "outputs": []
    },
    {
      "cell_type": "code",
      "metadata": {
        "id": "09PGuxfDsTD0"
      },
      "source": [
        "the_hitman_reviews = get_data(\"/content/drive/MyDrive/Taylors/assignments/NLP/assignment 2/data/the_hitmans_bodyguard.txt\")"
      ],
      "execution_count": null,
      "outputs": []
    },
    {
      "cell_type": "code",
      "metadata": {
        "id": "HGxBsGyPsb4N"
      },
      "source": [
        "woman_in_window_reviews = get_data(\"/content/drive/MyDrive/Taylors/assignments/NLP/assignment 2/data/the_woman_in_the_window.txt\")"
      ],
      "execution_count": null,
      "outputs": []
    },
    {
      "cell_type": "markdown",
      "metadata": {
        "id": "zVcyPfOIuFAT"
      },
      "source": [
        "##Data Preprocessing "
      ]
    },
    {
      "cell_type": "code",
      "metadata": {
        "id": "3ZFucPq-sl9F",
        "colab": {
          "base_uri": "https://localhost:8080/"
        },
        "outputId": "1a9c9fda-4b24-43d2-88a0-4b2dceee638e"
      },
      "source": [
        "print(\"Watchmen reviews:\\n\")\n",
        "print(watchmen_review)\n",
        "print(\"Interstellar reviews:\\n\")\n",
        "print(interstellar_review)\n",
        "print(\"The hitman's bodyguard reviews:\\n\")\n",
        "print(the_hitman_reviews)\n",
        "print(\"Spiderman Homecoming reviews:\\n\")\n",
        "print(spiderman_homecoming_reviews)\n",
        "print(\"Love and Monsters reviews:\\n\")\n",
        "print(love_and_monsters_review)\n",
        "print(\"John Wick reviews:\\n\")\n",
        "print(john_wick_reviews)\n",
        "print(\"Mortal Kombat reviews:\\n\")\n",
        "print(mortal_kombat_reviews)\n",
        "print(\"Army of the dead reviews:\\n\")\n",
        "print(army_of_dead_reviews)\n",
        "print(\"The dark knight reviews:\\n\")\n",
        "print(dark_knight_reviews)\n",
        "print(\"The woman in the window reviews:\\n\")\n",
        "print(woman_in_window_reviews)"
      ],
      "execution_count": null,
      "outputs": [
        {
          "output_type": "stream",
          "text": [
            "Watchmen reviews:\n",
            "\n",
            "                                                     0\n",
            "0    Undeniably, skilfully and wholeheartedly reali...\n",
            "1    Snyder has done a good job of staying true to ...\n",
            "2    Outside of Haley's turn as Rorschach, the cast...\n",
            "3    Snyder's film is a breath-taking epic, a compe...\n",
            "4    Watchmen really does work as a film, by stayin...\n",
            "..                                                 ...\n",
            "135  You may frequently wonder why Snyder has bothe...\n",
            "136  This is a landmark film for the genre that wil...\n",
            "137  This despicable trash will find an audience am...\n",
            "138  Watchmen is a spectacular visual treat, with s...\n",
            "139           The unfilmable has become the unlovable.\n",
            "\n",
            "[140 rows x 1 columns]\n",
            "Interstellar reviews:\n",
            "\n",
            "                                                     0    1    2    3\n",
            "0                                                  NaN  NaN  NaN  NaN\n",
            "1                                                  NaN  NaN  NaN  NaN\n",
            "2    Preposterous, pseudointellectual, poorly const...  NaN  NaN  NaN\n",
            "3                                                  NaN  NaN  NaN  NaN\n",
            "4                                                  NaN  NaN  NaN  NaN\n",
            "..                                                 ...  ...  ...  ...\n",
            "556                                                NaN  NaN  NaN  NaN\n",
            "557                                                NaN  NaN  NaN  NaN\n",
            "558  Leaving aside the flaws as film (underdevelope...  NaN  NaN  NaN\n",
            "559                                                NaN  NaN  NaN  NaN\n",
            "560                                                NaN  NaN  NaN  NaN\n",
            "\n",
            "[561 rows x 4 columns]\n",
            "The hitman's bodyguard reviews:\n",
            "\n",
            "                                                     0\n",
            "0    With violence too severe for the levity, and j...\n",
            "1    Reynolds and Jackson are better than this gene...\n",
            "2    Strewing bullets and f-bombs around with larky...\n",
            "3    Some films simply exist to give their audience...\n",
            "4    None of its sins are so egregious that it dese...\n",
            "..                                                 ...\n",
            "135                           I won't always love you.\n",
            "136  If you think about any one element in The Hitm...\n",
            "137  Even with the at times indulgent action scenes...\n",
            "138  A VOD title that lucked into a theatrical rele...\n",
            "139  Works best when it's focused on Samuel L. Jack...\n",
            "\n",
            "[140 rows x 1 columns]\n",
            "Spiderman Homecoming reviews:\n",
            "\n",
            "                                                     0    1\n",
            "0                                                  NaN  NaN\n",
            "1                                                  NaN  NaN\n",
            "2    Just one more forgettable, indistinguishable e...  NaN\n",
            "3                                                  NaN  NaN\n",
            "4                                                  NaN  NaN\n",
            "..                                                 ...  ...\n",
            "476                                                NaN  NaN\n",
            "477                                                NaN  NaN\n",
            "478  SPIDER-MAN will soon be celebrating his 15th b...  NaN\n",
            "479                                                NaN  NaN\n",
            "480                                                NaN  NaN\n",
            "\n",
            "[481 rows x 2 columns]\n",
            "Love and Monsters reviews:\n",
            "\n",
            "                                                     0    1\n",
            "0                                                  NaN  NaN\n",
            "1                                                  NaN  NaN\n",
            "2    Even if Love and Monsters is a little too simi...  NaN\n",
            "3                                                  NaN  NaN\n",
            "4                                                  NaN  NaN\n",
            "..                                                 ...  ...\n",
            "408                                                NaN  NaN\n",
            "409                                                NaN  NaN\n",
            "410  Love and Monsters does for monster movies what...  NaN\n",
            "411                                                NaN  NaN\n",
            "412                                                NaN  NaN\n",
            "\n",
            "[413 rows x 2 columns]\n",
            "John Wick reviews:\n",
            "\n",
            "                                                     0    1    2    3    4\n",
            "0                                                  NaN  NaN  NaN  NaN  NaN\n",
            "1                                                  NaN  NaN  NaN  NaN  NaN\n",
            "2    ...it's exciting, the fights are impressively ...  NaN  NaN  NaN  NaN\n",
            "3                                                  NaN  NaN  NaN  NaN  NaN\n",
            "4                                                  NaN  NaN  NaN  NaN  NaN\n",
            "..                                                 ...  ...  ...  ...  ...\n",
            "556                                                NaN  NaN  NaN  NaN  NaN\n",
            "557                                                NaN  NaN  NaN  NaN  NaN\n",
            "558  A slick, propulsive and ridiculous crime pictu...  NaN  NaN  NaN  NaN\n",
            "559                                                NaN  NaN  NaN  NaN  NaN\n",
            "560                                                NaN  NaN  NaN  NaN  NaN\n",
            "\n",
            "[561 rows x 5 columns]\n",
            "Mortal Kombat reviews:\n",
            "\n",
            "                                                     0    1    2    3    4\n",
            "0                                                  NaN  NaN  NaN  NaN  NaN\n",
            "1                                                  NaN  NaN  NaN  NaN  NaN\n",
            "2    Relies too heavily on replicating the superher...  NaN  NaN  NaN  NaN\n",
            "3                                                  NaN  NaN  NaN  NaN  NaN\n",
            "4                                                  NaN  NaN  NaN  NaN  NaN\n",
            "..                                                 ...  ...  ...  ...  ...\n",
            "556                                                NaN  NaN  NaN  NaN  NaN\n",
            "557                                                NaN  NaN  NaN  NaN  NaN\n",
            "558  The real heroes here are the visual effects de...  NaN  NaN  NaN  NaN\n",
            "559                                                NaN  NaN  NaN  NaN  NaN\n",
            "560                                                NaN  NaN  NaN  NaN  NaN\n",
            "\n",
            "[561 rows x 5 columns]\n",
            "Army of the dead reviews:\n",
            "\n",
            "                                                     0    1    2    3\n",
            "0                                                  NaN  NaN  NaN  NaN\n",
            "1                                                  NaN  NaN  NaN  NaN\n",
            "2    The movie does not have enough interesting thi...  NaN  NaN  NaN\n",
            "3                                                  NaN  NaN  NaN  NaN\n",
            "4                                                  NaN  NaN  NaN  NaN\n",
            "..                                                 ...  ...  ...  ...\n",
            "556                                                NaN  NaN  NaN  NaN\n",
            "557                                                NaN  NaN  NaN  NaN\n",
            "558  A savage zombie spectacular that sees Netflix ...  NaN  NaN  NaN\n",
            "559                                                NaN  NaN  NaN  NaN\n",
            "560                                                NaN  NaN  NaN  NaN\n",
            "\n",
            "[561 rows x 4 columns]\n",
            "The dark knight reviews:\n",
            "\n",
            "                                                     0\n",
            "0    A rare beast. It's a summer blockbuster with e...\n",
            "1    The famous masked vigilante has never looked o...\n",
            "2    With his smeared whiteface make-up and leering...\n",
            "3                        The awards hype is warranted.\n",
            "4    The Dark Knight managed to capture something c...\n",
            "..                                                 ...\n",
            "135  'The Dark Knight' boasts a visual splendor tha...\n",
            "136  A stupendous performance by the late Heath Led...\n",
            "137                               Good, but overrated.\n",
            "138  The hardware is played down this time and the ...\n",
            "139  At one point, all of Gotham believes that Aaro...\n",
            "\n",
            "[140 rows x 1 columns]\n",
            "The woman in the window reviews:\n",
            "\n",
            "                                                     0    1\n",
            "0                                                  NaN  NaN\n",
            "1                                                  NaN  NaN\n",
            "2    Nothing about the film works on any level. Zer...  NaN\n",
            "3                                                  NaN  NaN\n",
            "4                                                  NaN  NaN\n",
            "..                                                 ...  ...\n",
            "556                                                NaN  NaN\n",
            "557                                                NaN  NaN\n",
            "558  The final result being neither dramatically sa...  NaN\n",
            "559                                                NaN  NaN\n",
            "560                                                NaN  NaN\n",
            "\n",
            "[561 rows x 2 columns]\n"
          ],
          "name": "stdout"
        }
      ]
    },
    {
      "cell_type": "markdown",
      "metadata": {
        "id": "rScQ7bKduPQW"
      },
      "source": [
        "##Drop the unwanted columns "
      ]
    },
    {
      "cell_type": "code",
      "metadata": {
        "id": "mxp9-beupAB_"
      },
      "source": [
        "#drop the unwanted columns in the datasets \n",
        "interstellar_review = interstellar_review.drop([1,2,3],axis=1)\n",
        "spiderman_homecoming_reviews = spiderman_homecoming_reviews.drop([1],axis=1)\n",
        "love_and_monsters_review = love_and_monsters_review.drop([1],axis=1)\n",
        "john_wick_reviews = john_wick_reviews.drop([1,2,3,4],axis=1)\n",
        "mortal_kombat_reviews = mortal_kombat_reviews.drop([1,2,3,4],axis=1)\n",
        "army_of_dead_reviews = army_of_dead_reviews.drop([1,2,3],axis=1)\n",
        "woman_in_window_reviews = woman_in_window_reviews.drop([1],axis=1)"
      ],
      "execution_count": null,
      "outputs": []
    },
    {
      "cell_type": "markdown",
      "metadata": {
        "id": "b9uPjUoquTD1"
      },
      "source": [
        "##Missing Data"
      ]
    },
    {
      "cell_type": "markdown",
      "metadata": {
        "id": "tlgNcR0WAUFu"
      },
      "source": [
        "###Find missing values "
      ]
    },
    {
      "cell_type": "code",
      "metadata": {
        "id": "tZMTv2oBqScZ",
        "colab": {
          "base_uri": "https://localhost:8080/"
        },
        "outputId": "15878b61-d18d-4e32-82e2-4dc3c18f7d9b"
      },
      "source": [
        "print(\"<Before cleaning>\")\n",
        "print(\"<--------------------------------------------------------->\")\n",
        "print(\"Love and monsters :\")\n",
        "print(love_and_monsters_review.isnull().sum())\n",
        "print(\"<--------------------------------------------------------->\")\n",
        "print(\"Interstellar :\")\n",
        "print(interstellar_review.isnull().sum())\n",
        "print(\"<--------------------------------------------------------->\")\n",
        "print(\"John wick :\")\n",
        "print(john_wick_reviews.isnull().sum())\n",
        "print(\"<--------------------------------------------------------->\")\n",
        "print(\"Army of dead :\")\n",
        "print(army_of_dead_reviews.isnull().sum())\n",
        "print(\"<--------------------------------------------------------->\")\n",
        "print(\"The woman in window :\")\n",
        "print(woman_in_window_reviews.isnull().sum())\n",
        "print(\"<--------------------------------------------------------->\")\n",
        "print(\"Spiderman homecoming :\")\n",
        "print(spiderman_homecoming_reviews.isnull().sum())\n",
        "print(\"<--------------------------------------------------------->\")\n",
        "print(\"The dark knight :\")\n",
        "print(dark_knight_reviews.isnull().sum())\n",
        "print(\"<--------------------------------------------------------->\")\n",
        "print(\"Mortal Kombat :\")\n",
        "print(mortal_kombat_reviews.isnull().sum())\n",
        "print(\"<--------------------------------------------------------->\")\n",
        "print(\"The hitman's body guard :\")\n",
        "print(the_hitman_reviews.isnull().sum())\n",
        "print(\"<--------------------------------------------------------->\")\n",
        "print(\"Watchmen :\")\n",
        "print(watchmen_review.isnull().sum())\n",
        "print(\"<--------------------------------------------------------->\")"
      ],
      "execution_count": null,
      "outputs": [
        {
          "output_type": "stream",
          "text": [
            "<Before cleaning>\n",
            "<--------------------------------------------------------->\n",
            "Love and monsters :\n",
            "0    310\n",
            "dtype: int64\n",
            "<--------------------------------------------------------->\n",
            "Interstellar :\n",
            "0    421\n",
            "dtype: int64\n",
            "<--------------------------------------------------------->\n",
            "John wick :\n",
            "0    421\n",
            "dtype: int64\n",
            "<--------------------------------------------------------->\n",
            "Army of dead :\n",
            "0    421\n",
            "dtype: int64\n",
            "<--------------------------------------------------------->\n",
            "The woman in window :\n",
            "0    421\n",
            "dtype: int64\n",
            "<--------------------------------------------------------->\n",
            "Spiderman homecoming :\n",
            "0    361\n",
            "dtype: int64\n",
            "<--------------------------------------------------------->\n",
            "The dark knight :\n",
            "0    0\n",
            "dtype: int64\n",
            "<--------------------------------------------------------->\n",
            "Mortal Kombat :\n",
            "0    421\n",
            "dtype: int64\n",
            "<--------------------------------------------------------->\n",
            "The hitman's body guard :\n",
            "0    0\n",
            "dtype: int64\n",
            "<--------------------------------------------------------->\n",
            "Watchmen :\n",
            "0    0\n",
            "dtype: int64\n",
            "<--------------------------------------------------------->\n"
          ],
          "name": "stdout"
        }
      ]
    },
    {
      "cell_type": "markdown",
      "metadata": {
        "id": "j6tGANbfAF7j"
      },
      "source": [
        "###Drop the missing values "
      ]
    },
    {
      "cell_type": "code",
      "metadata": {
        "id": "kh1yk17lt5rl"
      },
      "source": [
        "#drop the missing values \n",
        "interstellar_review = interstellar_review.dropna()\n",
        "love_and_monsters_review = love_and_monsters_review.dropna()\n",
        "john_wick_reviews = john_wick_reviews.dropna()\n",
        "mortal_kombat_reviews = mortal_kombat_reviews.dropna()\n",
        "army_of_dead_reviews = army_of_dead_reviews.dropna()\n",
        "woman_in_window_reviews = woman_in_window_reviews.dropna()\n",
        "spiderman_homecoming_reviews = spiderman_homecoming_reviews.dropna()"
      ],
      "execution_count": null,
      "outputs": []
    },
    {
      "cell_type": "code",
      "metadata": {
        "colab": {
          "base_uri": "https://localhost:8080/"
        },
        "id": "Ia347cq-mMbI",
        "outputId": "8a625eb2-6239-45f1-a9f6-dc009dd9a8fd"
      },
      "source": [
        "print(\"<After cleaning>\")\n",
        "print(\"<--------------------------------------------------------->\")\n",
        "print(\"Love and monsters :\")\n",
        "print(love_and_monsters_review.isnull().sum())\n",
        "print(\"<--------------------------------------------------------->\")\n",
        "print(\"Interstellar :\")\n",
        "print(interstellar_review.isnull().sum())\n",
        "print(\"<--------------------------------------------------------->\")\n",
        "print(\"John wick :\")\n",
        "print(john_wick_reviews.isnull().sum())\n",
        "print(\"<--------------------------------------------------------->\")\n",
        "print(\"Army of dead :\")\n",
        "print(army_of_dead_reviews.isnull().sum())\n",
        "print(\"<--------------------------------------------------------->\")\n",
        "print(\"The woman in window :\")\n",
        "print(woman_in_window_reviews.isnull().sum())\n",
        "print(\"<--------------------------------------------------------->\")\n",
        "print(\"Spiderman homecoming :\")\n",
        "print(spiderman_homecoming_reviews.isnull().sum())\n",
        "print(\"<--------------------------------------------------------->\")\n",
        "print(\"The dark knight :\")\n",
        "print(dark_knight_reviews.isnull().sum())\n",
        "print(\"<--------------------------------------------------------->\")\n",
        "print(\"Mortal Kombat :\")\n",
        "print(mortal_kombat_reviews.isnull().sum())\n",
        "print(\"<--------------------------------------------------------->\")\n",
        "print(\"The hitman's body guard :\")\n",
        "print(the_hitman_reviews.isnull().sum())\n",
        "print(\"<--------------------------------------------------------->\")\n",
        "print(\"Watchmen :\")\n",
        "print(watchmen_review.isnull().sum())\n",
        "print(\"<--------------------------------------------------------->\")"
      ],
      "execution_count": null,
      "outputs": [
        {
          "output_type": "stream",
          "text": [
            "<After cleaning>\n",
            "<--------------------------------------------------------->\n",
            "Love and monsters :\n",
            "0    0\n",
            "dtype: int64\n",
            "<--------------------------------------------------------->\n",
            "Interstellar :\n",
            "0    0\n",
            "dtype: int64\n",
            "<--------------------------------------------------------->\n",
            "John wick :\n",
            "0    0\n",
            "dtype: int64\n",
            "<--------------------------------------------------------->\n",
            "Army of dead :\n",
            "0    0\n",
            "dtype: int64\n",
            "<--------------------------------------------------------->\n",
            "The woman in window :\n",
            "0    0\n",
            "dtype: int64\n",
            "<--------------------------------------------------------->\n",
            "Spiderman homecoming :\n",
            "0    0\n",
            "dtype: int64\n",
            "<--------------------------------------------------------->\n",
            "The dark knight :\n",
            "0    0\n",
            "dtype: int64\n",
            "<--------------------------------------------------------->\n",
            "Mortal Kombat :\n",
            "0    0\n",
            "dtype: int64\n",
            "<--------------------------------------------------------->\n",
            "The hitman's body guard :\n",
            "0    0\n",
            "dtype: int64\n",
            "<--------------------------------------------------------->\n",
            "Watchmen :\n",
            "0    0\n",
            "dtype: int64\n",
            "<--------------------------------------------------------->\n"
          ],
          "name": "stdout"
        }
      ]
    },
    {
      "cell_type": "markdown",
      "metadata": {
        "id": "lOya69Ga7x-p"
      },
      "source": [
        "###Preprocessing 1"
      ]
    },
    {
      "cell_type": "code",
      "metadata": {
        "id": "VUij3U2lg3vg"
      },
      "source": [
        "#first stage preprocessing for the prediction datasets \n",
        "love_and_monsters_review_preprocessed_1 = preprocessing_1(love_and_monsters_review[0])\n",
        "interstellar_review_preprocessed_1 = preprocessing_1(interstellar_review[0])\n",
        "john_wick_reviews_preprocessed_1 =  preprocessing_1(john_wick_reviews[0])\n",
        "army_of_dead_reviews_preprocessed_1 = preprocessing_1(army_of_dead_reviews[0])\n",
        "woman_in_window_reviews_preprocessed_1 = preprocessing_1(woman_in_window_reviews[0])\n",
        "spiderman_homecoming_reviews_preprocessed_1 = preprocessing_1(spiderman_homecoming_reviews[0])\n",
        "dark_knight_reviews_preprocessed_1 = preprocessing_1(dark_knight_reviews[0])\n",
        "mortal_kombat_reviews_preprocessed_1 = preprocessing_1(mortal_kombat_reviews[0])\n",
        "the_hitman_reviews_preprocessed_1 = preprocessing_1(the_hitman_reviews[0])\n",
        "watchmen_review_preprocessed_1 = preprocessing_1(watchmen_review[0])"
      ],
      "execution_count": null,
      "outputs": []
    },
    {
      "cell_type": "markdown",
      "metadata": {
        "id": "0M6FtmCf73Tj"
      },
      "source": [
        "###Detect Foreign Language "
      ]
    },
    {
      "cell_type": "code",
      "metadata": {
        "colab": {
          "base_uri": "https://localhost:8080/"
        },
        "id": "U5ANM-5HI6JN",
        "outputId": "f1784795-6969-463e-c6f3-a9ee3be4db73"
      },
      "source": [
        "print(\"<--------------------------------------------------------->\")\n",
        "print(\"Love and monsters :\")\n",
        "isEnglish(love_and_monsters_review_preprocessed_1)\n",
        "print(\"<--------------------------------------------------------->\")\n",
        "print(\"Interstellar :\")\n",
        "isEnglish(interstellar_review_preprocessed_1)\n",
        "print(\"<--------------------------------------------------------->\")\n",
        "print(\"John wick :\")\n",
        "isEnglish(john_wick_reviews_preprocessed_1)\n",
        "print(\"<--------------------------------------------------------->\")\n",
        "print(\"Army of dead :\")\n",
        "isEnglish(army_of_dead_reviews_preprocessed_1)\n",
        "print(\"<--------------------------------------------------------->\")\n",
        "print(\"The woman in window :\")\n",
        "isEnglish(woman_in_window_reviews_preprocessed_1)\n",
        "print(\"<--------------------------------------------------------->\")\n",
        "print(\"Spiderman homecoming :\")\n",
        "isEnglish(spiderman_homecoming_reviews_preprocessed_1)\n",
        "print(\"<--------------------------------------------------------->\")\n",
        "print(\"The dark knight :\")\n",
        "isEnglish(dark_knight_reviews_preprocessed_1)\n",
        "print(\"<--------------------------------------------------------->\")\n",
        "print(\"Mortal Kombat :\")\n",
        "isEnglish(mortal_kombat_reviews_preprocessed_1)\n",
        "print(\"<--------------------------------------------------------->\")\n",
        "print(\"The hitman's body guard :\")\n",
        "isEnglish(the_hitman_reviews_preprocessed_1)\n",
        "print(\"<--------------------------------------------------------->\")\n",
        "print(\"Watchmen :\")\n",
        "isEnglish(watchmen_review_preprocessed_1)\n",
        "print(\"<--------------------------------------------------------->\")"
      ],
      "execution_count": null,
      "outputs": [
        {
          "output_type": "stream",
          "text": [
            "<--------------------------------------------------------->\n",
            "Love and monsters :\n",
            "There are 0 foreign languages detected in the dataset.\n",
            "<--------------------------------------------------------->\n",
            "Interstellar :\n",
            "There are 0 foreign languages detected in the dataset.\n",
            "<--------------------------------------------------------->\n",
            "John wick :\n",
            "There are 0 foreign languages detected in the dataset.\n",
            "<--------------------------------------------------------->\n",
            "Army of dead :\n",
            "There are 0 foreign languages detected in the dataset.\n",
            "<--------------------------------------------------------->\n",
            "The woman in window :\n",
            "There are 0 foreign languages detected in the dataset.\n",
            "<--------------------------------------------------------->\n",
            "Spiderman homecoming :\n",
            "tom holland peter parker\n",
            "There are 1 foreign languages detected in the dataset.\n",
            "<--------------------------------------------------------->\n",
            "The dark knight :\n",
            "najefektniji u trenucima kada se kr u e nepisana pravila\n",
            "lo mejor por lejos la descollante actuaci n p stuma de heath ledger como el guas n definitivo quiz el primer blockbuster de culto del siglo xxi\n",
            "There are 2 foreign languages detected in the dataset.\n",
            "<--------------------------------------------------------->\n",
            "Mortal Kombat :\n",
            "There are 0 foreign languages detected in the dataset.\n",
            "<--------------------------------------------------------->\n",
            "The hitman's body guard :\n",
            "There are 0 foreign languages detected in the dataset.\n",
            "<--------------------------------------------------------->\n",
            "Watchmen :\n",
            "intoxicante ejercicio visual que se aleja completamente de la cinta tradicional de superh roes para adentrarse en el dilema moral de todo h roe que se sabe finalmente humano\n",
            "una adaptaci n demasiado ambiciosa hecha con mucho esmero visualmente impactante pero que termina agotando al espectador con su acumulaci n de personajes cdotas subtramas referencias\n",
            "There are 2 foreign languages detected in the dataset.\n",
            "<--------------------------------------------------------->\n"
          ],
          "name": "stdout"
        }
      ]
    },
    {
      "cell_type": "markdown",
      "metadata": {
        "id": "3ZS7Sp738EYV"
      },
      "source": [
        "###Translate Foreign Language "
      ]
    },
    {
      "cell_type": "code",
      "metadata": {
        "id": "8iTRenDgO9jP"
      },
      "source": [
        "#intialize the translator \n",
        "translator = google_translator()\n",
        "#translate datasets with foreign language\n",
        "translated_watchmen = translate_foreign_language(watchmen_review_preprocessed_1,translator)\n",
        "translated_dark_knight = translate_foreign_language(dark_knight_reviews_preprocessed_1,translator)"
      ],
      "execution_count": null,
      "outputs": []
    },
    {
      "cell_type": "code",
      "metadata": {
        "id": "q2zWyzdatans",
        "colab": {
          "base_uri": "https://localhost:8080/"
        },
        "outputId": "89ffeb47-882f-434a-b578-b4c3a8797f27"
      },
      "source": [
        "print(\"<--------------------------------------------------------->\")\n",
        "print(\"Dark knight reviews after translation:\")\n",
        "isEnglish(translated_dark_knight)\n",
        "print(\"<--------------------------------------------------------->\")\n",
        "print(\"Watchmen reviews after translation:\")\n",
        "isEnglish(translated_watchmen)\n",
        "print(\"<--------------------------------------------------------->\")"
      ],
      "execution_count": null,
      "outputs": [
        {
          "output_type": "stream",
          "text": [
            "<--------------------------------------------------------->\n",
            "Dark knight reviews after translation:\n",
            "There are 0 foreign languages detected in the dataset.\n",
            "<--------------------------------------------------------->\n",
            "Watchmen reviews after translation:\n",
            "There are 0 foreign languages detected in the dataset.\n",
            "<--------------------------------------------------------->\n"
          ],
          "name": "stdout"
        }
      ]
    },
    {
      "cell_type": "markdown",
      "metadata": {
        "id": "wdc_nsIu8L1l"
      },
      "source": [
        "###Preprocess 2 - Encoding "
      ]
    },
    {
      "cell_type": "code",
      "metadata": {
        "id": "8535dIu0dAlY"
      },
      "source": [
        "#convert lists to dataframe \n",
        "love_and_monsters_review_df = pd.DataFrame(love_and_monsters_review_preprocessed_1,columns=['review'])\n",
        "interstellar_review_df = pd.DataFrame(interstellar_review_preprocessed_1,columns=['review'])\n",
        "john_wick_review_df = pd.DataFrame(john_wick_reviews_preprocessed_1,columns=['review'])\n",
        "army_of_dead_reviews_df = pd.DataFrame(army_of_dead_reviews_preprocessed_1,columns=['review'])\n",
        "woman_in_window_reviews_df = pd.DataFrame(woman_in_window_reviews_preprocessed_1,columns=['review'])\n",
        "spiderman_homecoming_reviews_df = pd.DataFrame(spiderman_homecoming_reviews_preprocessed_1,columns=['review'])\n",
        "dark_knight_reviews_df = pd.DataFrame(dark_knight_reviews_preprocessed_1,columns=['review'])\n",
        "mortal_kombat_reviews_df = pd.DataFrame(mortal_kombat_reviews_preprocessed_1,columns=['review'])\n",
        "the_hitman_reviews_df = pd.DataFrame(the_hitman_reviews_preprocessed_1,columns=['review'])\n",
        "watchmen_review_df = pd.DataFrame(watchmen_review_preprocessed_1,columns=['review'])\n"
      ],
      "execution_count": null,
      "outputs": []
    },
    {
      "cell_type": "code",
      "metadata": {
        "id": "5fo9a6CGht26"
      },
      "source": [
        "#encode the prediction datasets \n",
        "love_and_monsters_encoded = preprocess_2(love_and_monsters_review_df,\"predictions\")\n",
        "interstellar_encoded = preprocess_2(interstellar_review_df,\"predictions\")\n",
        "john_wick_encoded = preprocess_2(john_wick_review_df,\"predictions\")\n",
        "army_of_dead_encoded = preprocess_2(army_of_dead_reviews_df,\"predictions\")\n",
        "woman_in_window_encoded = preprocess_2(woman_in_window_reviews_df,\"predictions\")\n",
        "spiderman_homecoming_encoded = preprocess_2(spiderman_homecoming_reviews_df,\"predictions\")\n",
        "dark_knight_encoded = preprocess_2(dark_knight_reviews_df,\"predictions\")\n",
        "mortal_kombat_encoded = preprocess_2(mortal_kombat_reviews_df,\"predictions\")\n",
        "the_hitman_encoded = preprocess_2(the_hitman_reviews_df,\"predictions\")\n",
        "watchmen_encoded = preprocess_2(watchmen_review_df,\"predictions\")"
      ],
      "execution_count": null,
      "outputs": []
    },
    {
      "cell_type": "code",
      "metadata": {
        "id": "u0ZV9lIvkEXH",
        "colab": {
          "base_uri": "https://localhost:8080/"
        },
        "outputId": "d5dfba77-1d3a-429a-85ca-525926be77f8"
      },
      "source": [
        "print(\"<--------------------------------------------------------->\")\n",
        "print(\"Love and monsters encoded shape ==>\",love_and_monsters_encoded.shape)\n",
        "print(\"<--------------------------------------------------------->\")\n",
        "print(\"Interstellar encoded shape ==>\",interstellar_encoded.shape)\n",
        "print(\"<--------------------------------------------------------->\")\n",
        "print(\"John wick encoded shape ==>\",john_wick_encoded.shape)\n",
        "print(\"<--------------------------------------------------------->\")\n",
        "print(\"Army of dead encoded shape ==>\",army_of_dead_encoded.shape)\n",
        "print(\"<--------------------------------------------------------->\")\n",
        "print(\"The woman in window encoded shape ==>\",woman_in_window_encoded.shape)\n",
        "print(\"<--------------------------------------------------------->\")\n",
        "print(\"Spiderman homecoming encoded shape ==>\",spiderman_homecoming_encoded.shape)\n",
        "print(\"<--------------------------------------------------------->\")\n",
        "print(\"The dark knight encoded shape ==>\",dark_knight_encoded.shape)\n",
        "print(\"<--------------------------------------------------------->\")\n",
        "print(\"Mortal Kombat encoded shape ==>\",mortal_kombat_encoded.shape)\n",
        "print(\"<--------------------------------------------------------->\")\n",
        "print(\"The hitman's body guard encoded shape ==>\",the_hitman_encoded.shape)\n",
        "print(\"<--------------------------------------------------------->\")\n",
        "print(\"Watchmen encoded shape ==>\",watchmen_encoded.shape)\n",
        "print(\"<--------------------------------------------------------->\")"
      ],
      "execution_count": null,
      "outputs": [
        {
          "output_type": "stream",
          "text": [
            "<--------------------------------------------------------->\n",
            "Love and monsters encoded shape ==> (102, 558, 250)\n",
            "<--------------------------------------------------------->\n",
            "Interstellar encoded shape ==> (140, 558, 250)\n",
            "<--------------------------------------------------------->\n",
            "John wick encoded shape ==> (140, 558, 250)\n",
            "<--------------------------------------------------------->\n",
            "Army of dead encoded shape ==> (140, 558, 250)\n",
            "<--------------------------------------------------------->\n",
            "The woman in window encoded shape ==> (140, 558, 250)\n",
            "<--------------------------------------------------------->\n",
            "Spiderman homecoming encoded shape ==> (120, 558, 250)\n",
            "<--------------------------------------------------------->\n",
            "The dark knight encoded shape ==> (140, 558, 250)\n",
            "<--------------------------------------------------------->\n",
            "Mortal Kombat encoded shape ==> (140, 558, 250)\n",
            "<--------------------------------------------------------->\n",
            "The hitman's body guard encoded shape ==> (140, 558, 250)\n",
            "<--------------------------------------------------------->\n",
            "Watchmen encoded shape ==> (140, 558, 250)\n",
            "<--------------------------------------------------------->\n"
          ],
          "name": "stdout"
        }
      ]
    },
    {
      "cell_type": "markdown",
      "metadata": {
        "id": "37oXbvvB80KP"
      },
      "source": [
        "#Model Building"
      ]
    },
    {
      "cell_type": "code",
      "metadata": {
        "id": "V4RgGDJC9W18",
        "colab": {
          "base_uri": "https://localhost:8080/"
        },
        "outputId": "c66b2b44-43f7-4b30-c6bf-301861680c17"
      },
      "source": [
        "#define the model\n",
        "model=Sequential()\n",
        "model.add(LSTM(64,return_sequences=True,input_shape=(X_train.shape[1],X_train.shape[2])))\n",
        "model.add(LSTM(32))\n",
        "model.add(Dense(1,activation='sigmoid'))\n",
        "#compile the model \n",
        "model.compile(loss='binary_crossentropy',optimizer='adam',metrics=['accuracy'])\n",
        "#summary of the model\n",
        "model.summary()"
      ],
      "execution_count": null,
      "outputs": [
        {
          "output_type": "stream",
          "text": [
            "Model: \"sequential_9\"\n",
            "_________________________________________________________________\n",
            "Layer (type)                 Output Shape              Param #   \n",
            "=================================================================\n",
            "lstm_18 (LSTM)               (None, 558, 64)           80640     \n",
            "_________________________________________________________________\n",
            "lstm_19 (LSTM)               (None, 32)                12416     \n",
            "_________________________________________________________________\n",
            "dense_9 (Dense)              (None, 1)                 33        \n",
            "=================================================================\n",
            "Total params: 93,089\n",
            "Trainable params: 93,089\n",
            "Non-trainable params: 0\n",
            "_________________________________________________________________\n"
          ],
          "name": "stdout"
        }
      ]
    },
    {
      "cell_type": "code",
      "metadata": {
        "id": "6YKkXcwjAckd",
        "colab": {
          "base_uri": "https://localhost:8080/"
        },
        "outputId": "a567f2e5-60b6-4197-a1b1-94ad3342311a"
      },
      "source": [
        "history = model.fit(\n",
        "    X_train,   #training sequence\n",
        "    y_train, # training labels\n",
        "    epochs=50,\n",
        "    validation_data=(X_test,y_test))"
      ],
      "execution_count": null,
      "outputs": [
        {
          "output_type": "stream",
          "text": [
            "Epoch 1/50\n",
            "22/22 [==============================] - 6s 106ms/step - loss: 0.6844 - accuracy: 0.5629 - val_loss: 0.6626 - val_accuracy: 0.6300\n",
            "Epoch 2/50\n",
            "22/22 [==============================] - 1s 64ms/step - loss: 0.5832 - accuracy: 0.7129 - val_loss: 0.5800 - val_accuracy: 0.6667\n",
            "Epoch 3/50\n",
            "22/22 [==============================] - 1s 64ms/step - loss: 0.5399 - accuracy: 0.7314 - val_loss: 0.5902 - val_accuracy: 0.6900\n",
            "Epoch 4/50\n",
            "22/22 [==============================] - 1s 65ms/step - loss: 0.5062 - accuracy: 0.7543 - val_loss: 0.5308 - val_accuracy: 0.7267\n",
            "Epoch 5/50\n",
            "22/22 [==============================] - 1s 64ms/step - loss: 0.4776 - accuracy: 0.7729 - val_loss: 0.5194 - val_accuracy: 0.7433\n",
            "Epoch 6/50\n",
            "22/22 [==============================] - 1s 65ms/step - loss: 0.4486 - accuracy: 0.7957 - val_loss: 0.5144 - val_accuracy: 0.7433\n",
            "Epoch 7/50\n",
            "22/22 [==============================] - 1s 64ms/step - loss: 0.5113 - accuracy: 0.7829 - val_loss: 0.6090 - val_accuracy: 0.6733\n",
            "Epoch 8/50\n",
            "22/22 [==============================] - 1s 64ms/step - loss: 0.5398 - accuracy: 0.7371 - val_loss: 0.5504 - val_accuracy: 0.7167\n",
            "Epoch 9/50\n",
            "22/22 [==============================] - 1s 65ms/step - loss: 0.4537 - accuracy: 0.7929 - val_loss: 0.5448 - val_accuracy: 0.7167\n",
            "Epoch 10/50\n",
            "22/22 [==============================] - 1s 64ms/step - loss: 0.4328 - accuracy: 0.8014 - val_loss: 0.5307 - val_accuracy: 0.7400\n",
            "Epoch 11/50\n",
            "22/22 [==============================] - 1s 65ms/step - loss: 0.4220 - accuracy: 0.7957 - val_loss: 0.5278 - val_accuracy: 0.7333\n",
            "Epoch 12/50\n",
            "22/22 [==============================] - 1s 65ms/step - loss: 0.4293 - accuracy: 0.8071 - val_loss: 0.5479 - val_accuracy: 0.7700\n",
            "Epoch 13/50\n",
            "22/22 [==============================] - 1s 65ms/step - loss: 0.4016 - accuracy: 0.8171 - val_loss: 0.5569 - val_accuracy: 0.7467\n",
            "Epoch 14/50\n",
            "22/22 [==============================] - 1s 65ms/step - loss: 0.3853 - accuracy: 0.8229 - val_loss: 0.5308 - val_accuracy: 0.7433\n",
            "Epoch 15/50\n",
            "22/22 [==============================] - 1s 65ms/step - loss: 0.3851 - accuracy: 0.8214 - val_loss: 0.5499 - val_accuracy: 0.7200\n",
            "Epoch 16/50\n",
            "22/22 [==============================] - 1s 65ms/step - loss: 0.3550 - accuracy: 0.8500 - val_loss: 0.5431 - val_accuracy: 0.7500\n",
            "Epoch 17/50\n",
            "22/22 [==============================] - 1s 65ms/step - loss: 0.3437 - accuracy: 0.8557 - val_loss: 0.5386 - val_accuracy: 0.7467\n",
            "Epoch 18/50\n",
            "22/22 [==============================] - 1s 65ms/step - loss: 0.3110 - accuracy: 0.8657 - val_loss: 0.6117 - val_accuracy: 0.7033\n",
            "Epoch 19/50\n",
            "22/22 [==============================] - 1s 64ms/step - loss: 0.3551 - accuracy: 0.8429 - val_loss: 0.5830 - val_accuracy: 0.7467\n",
            "Epoch 20/50\n",
            "22/22 [==============================] - 1s 64ms/step - loss: 0.2871 - accuracy: 0.8886 - val_loss: 0.6370 - val_accuracy: 0.7067\n",
            "Epoch 21/50\n",
            "22/22 [==============================] - 1s 65ms/step - loss: 0.2749 - accuracy: 0.9029 - val_loss: 0.6126 - val_accuracy: 0.7300\n",
            "Epoch 22/50\n",
            "22/22 [==============================] - 1s 65ms/step - loss: 0.2784 - accuracy: 0.8871 - val_loss: 0.6044 - val_accuracy: 0.7500\n",
            "Epoch 23/50\n",
            "22/22 [==============================] - 1s 67ms/step - loss: 0.2108 - accuracy: 0.9157 - val_loss: 0.7100 - val_accuracy: 0.7667\n",
            "Epoch 24/50\n",
            "22/22 [==============================] - 1s 67ms/step - loss: 0.2010 - accuracy: 0.9329 - val_loss: 0.7310 - val_accuracy: 0.7167\n",
            "Epoch 25/50\n",
            "22/22 [==============================] - 1s 66ms/step - loss: 0.2235 - accuracy: 0.9043 - val_loss: 0.6742 - val_accuracy: 0.7533\n",
            "Epoch 26/50\n",
            "22/22 [==============================] - 1s 67ms/step - loss: 0.1756 - accuracy: 0.9414 - val_loss: 0.8005 - val_accuracy: 0.7133\n",
            "Epoch 27/50\n",
            "22/22 [==============================] - 1s 67ms/step - loss: 0.1546 - accuracy: 0.9414 - val_loss: 0.7213 - val_accuracy: 0.7500\n",
            "Epoch 28/50\n",
            "22/22 [==============================] - 1s 66ms/step - loss: 0.1248 - accuracy: 0.9543 - val_loss: 0.8128 - val_accuracy: 0.7300\n",
            "Epoch 29/50\n",
            "22/22 [==============================] - 1s 66ms/step - loss: 0.1667 - accuracy: 0.9271 - val_loss: 0.8170 - val_accuracy: 0.7433\n",
            "Epoch 30/50\n",
            "22/22 [==============================] - 1s 65ms/step - loss: 0.0888 - accuracy: 0.9786 - val_loss: 0.8362 - val_accuracy: 0.7367\n",
            "Epoch 31/50\n",
            "22/22 [==============================] - 1s 67ms/step - loss: 0.1448 - accuracy: 0.9514 - val_loss: 0.8722 - val_accuracy: 0.7500\n",
            "Epoch 32/50\n",
            "22/22 [==============================] - 1s 67ms/step - loss: 0.0750 - accuracy: 0.9771 - val_loss: 0.8823 - val_accuracy: 0.7200\n",
            "Epoch 33/50\n",
            "22/22 [==============================] - 1s 66ms/step - loss: 0.0921 - accuracy: 0.9714 - val_loss: 0.9615 - val_accuracy: 0.7467\n",
            "Epoch 34/50\n",
            "22/22 [==============================] - 1s 68ms/step - loss: 0.1217 - accuracy: 0.9614 - val_loss: 0.9522 - val_accuracy: 0.7433\n",
            "Epoch 35/50\n",
            "22/22 [==============================] - 1s 67ms/step - loss: 0.1045 - accuracy: 0.9671 - val_loss: 0.9462 - val_accuracy: 0.7133\n",
            "Epoch 36/50\n",
            "22/22 [==============================] - 1s 67ms/step - loss: 0.0752 - accuracy: 0.9686 - val_loss: 0.9564 - val_accuracy: 0.7233\n",
            "Epoch 37/50\n",
            "22/22 [==============================] - 1s 67ms/step - loss: 0.0572 - accuracy: 0.9871 - val_loss: 0.9522 - val_accuracy: 0.7567\n",
            "Epoch 38/50\n",
            "22/22 [==============================] - 1s 67ms/step - loss: 0.0694 - accuracy: 0.9757 - val_loss: 1.1225 - val_accuracy: 0.7133\n",
            "Epoch 39/50\n",
            "22/22 [==============================] - 1s 67ms/step - loss: 0.0889 - accuracy: 0.9714 - val_loss: 0.9959 - val_accuracy: 0.7133\n",
            "Epoch 40/50\n",
            "22/22 [==============================] - 1s 66ms/step - loss: 0.0731 - accuracy: 0.9729 - val_loss: 1.1045 - val_accuracy: 0.7400\n",
            "Epoch 41/50\n",
            "22/22 [==============================] - 1s 66ms/step - loss: 0.0942 - accuracy: 0.9686 - val_loss: 0.9860 - val_accuracy: 0.7267\n",
            "Epoch 42/50\n",
            "22/22 [==============================] - 1s 67ms/step - loss: 0.0513 - accuracy: 0.9886 - val_loss: 0.9677 - val_accuracy: 0.7133\n",
            "Epoch 43/50\n",
            "22/22 [==============================] - 1s 67ms/step - loss: 0.0207 - accuracy: 0.9943 - val_loss: 1.0541 - val_accuracy: 0.7400\n",
            "Epoch 44/50\n",
            "22/22 [==============================] - 1s 67ms/step - loss: 0.0105 - accuracy: 0.9986 - val_loss: 1.1378 - val_accuracy: 0.7100\n",
            "Epoch 45/50\n",
            "22/22 [==============================] - 1s 67ms/step - loss: 0.0085 - accuracy: 0.9986 - val_loss: 1.1829 - val_accuracy: 0.7367\n",
            "Epoch 46/50\n",
            "22/22 [==============================] - 1s 68ms/step - loss: 0.0064 - accuracy: 1.0000 - val_loss: 1.1491 - val_accuracy: 0.7367\n",
            "Epoch 47/50\n",
            "22/22 [==============================] - 1s 67ms/step - loss: 0.0038 - accuracy: 1.0000 - val_loss: 1.1963 - val_accuracy: 0.7500\n",
            "Epoch 48/50\n",
            "22/22 [==============================] - 1s 68ms/step - loss: 0.0030 - accuracy: 1.0000 - val_loss: 1.2526 - val_accuracy: 0.7433\n",
            "Epoch 49/50\n",
            "22/22 [==============================] - 1s 67ms/step - loss: 0.0024 - accuracy: 1.0000 - val_loss: 1.2683 - val_accuracy: 0.7433\n",
            "Epoch 50/50\n",
            "22/22 [==============================] - 1s 66ms/step - loss: 0.0021 - accuracy: 1.0000 - val_loss: 1.2929 - val_accuracy: 0.7467\n"
          ],
          "name": "stdout"
        }
      ]
    },
    {
      "cell_type": "code",
      "metadata": {
        "id": "e3KtaRjjCY3Y",
        "colab": {
          "base_uri": "https://localhost:8080/",
          "height": 780
        },
        "outputId": "ed85b1b8-274b-4960-f068-2549e7ecec9a"
      },
      "source": [
        "##plot the scores from history\n",
        "def plot_metrics(history, metric,title):\n",
        "  plt.figure(figsize=(18,8))\n",
        "  plt.title(title)\n",
        "  plt.plot(history.history[metric])\n",
        "  plt.plot(history.history['val_'+ metric])\n",
        "  plt.legend([metric, 'val_'+ metric])\n",
        "  plt.xlabel(\"Epochs\")\n",
        "  plt.ylabel(metric)\n",
        "  plt.style.use('fivethirtyeight')\n",
        "  plt.show()\n",
        "  \n",
        "##plot accuracy\n",
        "plot_metrics(history, \"accuracy\",\"Accuracy vs Validation accuracy\")\n",
        "\n",
        "##plot loss\n",
        "plot_metrics(history, \"loss\",\"Loss vs Validation loss\")"
      ],
      "execution_count": null,
      "outputs": [
        {
          "output_type": "display_data",
          "data": {
            "image/png": "[encoded data removed]",
            "text/plain": [
              "<Figure size 1296x576 with 1 Axes>"
            ]
          },
          "metadata": {
            "tags": []
          }
        },
        {
          "output_type": "display_data",
          "data": {
            "image/png": "[encoded data removed]",
            "text/plain": [
              "<Figure size 1296x576 with 1 Axes>"
            ]
          },
          "metadata": {
            "tags": []
          }
        }
      ]
    },
    {
      "cell_type": "code",
      "metadata": {
        "id": "c2JO4qKvInNx"
      },
      "source": [
        "#make prediction based on \n",
        "prediction = model.predict(X_test)"
      ],
      "execution_count": null,
      "outputs": []
    },
    {
      "cell_type": "code",
      "metadata": {
        "id": "zFbpy39ULC6z",
        "colab": {
          "base_uri": "https://localhost:8080/",
          "height": 398
        },
        "outputId": "ca8c95a7-3aa0-4367-a366-f095bdd47ea1"
      },
      "source": [
        "#calculate the roc_auc score and roc_curve score \n",
        "auc_prediction = roc_auc_score(y_test,prediction)\n",
        "prediction_fpr , prediction_tpr , _ = roc_curve(y_test,prediction)\n",
        "\n",
        "#plot the roc curve \n",
        "plt.figure(figsize=(18,8))\n",
        "plt.plot(prediction_fpr,prediction_tpr,label='LSTM prediction (AUROC = %0.3f)'%auc_prediction)\n",
        "plt.title('ROC Curve')\n",
        "plt.xlabel('False Positive Rate')\n",
        "plt.ylabel('True Positive Rate')\n",
        "plt.legend(loc='lower right')\n",
        "plt.show()"
      ],
      "execution_count": null,
      "outputs": [
        {
          "output_type": "display_data",
          "data": {
            "image/png": "[encoded data removed]",
            "text/plain": [
              "<Figure size 1296x576 with 1 Axes>"
            ]
          },
          "metadata": {
            "tags": []
          }
        }
      ]
    },
    {
      "cell_type": "code",
      "metadata": {
        "id": "XVDgLlDIlU9-"
      },
      "source": [
        "#predict the polarity of the movie reviews \n",
        "love_and_monsters_prediction = model.predict(love_and_monsters_encoded)\n",
        "interstellar_prediction = model.predict(interstellar_encoded)\n",
        "john_wick_prediction = model.predict(john_wick_encoded)\n",
        "army_of_dead_prediction = model.predict(army_of_dead_encoded)\n",
        "woman_in_window_prediction = model.predict(woman_in_window_encoded)\n",
        "spiderman_homecoming_prediction = model.predict(spiderman_homecoming_encoded)\n",
        "dark_knight_prediction = model.predict(dark_knight_encoded)\n",
        "mortal_kombat_prediction = model.predict(mortal_kombat_encoded)\n",
        "the_hitman_prediction = model.predict(the_hitman_encoded)\n",
        "watchmen_prediction = model.predict(watchmen_encoded)"
      ],
      "execution_count": null,
      "outputs": []
    },
    {
      "cell_type": "code",
      "metadata": {
        "id": "jtfLAeYrm1WA"
      },
      "source": [
        "# round off the answer \n",
        "love_and_monsters_prediction_round = round_off(love_and_monsters_prediction)\n",
        "interstellar_prediction_round = round_off(interstellar_prediction)\n",
        "john_wick_prediction_round = round_off(john_wick_prediction)\n",
        "army_of_dead_prediction_round = round_off(army_of_dead_prediction)\n",
        "woman_in_window_prediction_round = round_off(woman_in_window_prediction)\n",
        "spiderman_homecoming_prediction_round = round_off(spiderman_homecoming_prediction)\n",
        "dark_knight_prediction_round = round_off(dark_knight_prediction)\n",
        "mortal_kombat_prediction_round = round_off(mortal_kombat_prediction)\n",
        "the_hitman_prediction_round = round_off(the_hitman_prediction)\n",
        "watchmen_prediction_round = round_off(watchmen_prediction)"
      ],
      "execution_count": null,
      "outputs": []
    },
    {
      "cell_type": "code",
      "metadata": {
        "id": "m_VA8ctVt-wv"
      },
      "source": [
        "#define rating function \n",
        "rating = lambda x , y ,z:  ((x*0.1+y*0.05)/len(z))*100"
      ],
      "execution_count": null,
      "outputs": []
    },
    {
      "cell_type": "code",
      "metadata": {
        "id": "w65bTAHxLtRC"
      },
      "source": [
        "#calculate rating for love and monsters \n",
        "positive_love_and_monsters , negative_love_and_monsters = count(love_and_monsters_prediction_round)\n",
        "love_and_monsters_rating = round(rating(positive_love_and_monsters,negative_love_and_monsters,love_and_monsters_prediction_round),2)"
      ],
      "execution_count": null,
      "outputs": []
    },
    {
      "cell_type": "code",
      "metadata": {
        "id": "KQ3YC5MEmZLF"
      },
      "source": [
        "#caluclate rating for intertsellar \n",
        "positive_interstellar , negative_interstellar = count(interstellar_prediction_round)\n",
        "interstellar_rating = round(rating(positive_interstellar,negative_interstellar,interstellar_prediction_round),2)"
      ],
      "execution_count": null,
      "outputs": []
    },
    {
      "cell_type": "code",
      "metadata": {
        "id": "QPXo7fVAm__w"
      },
      "source": [
        "#caluclate rating for john wick\n",
        "positive_john_wick , negative_john_wick = count(john_wick_prediction_round)\n",
        "john_wick_rating = round(rating(positive_john_wick,negative_john_wick,john_wick_prediction_round),2)"
      ],
      "execution_count": null,
      "outputs": []
    },
    {
      "cell_type": "code",
      "metadata": {
        "id": "V32tCHcXrP5o"
      },
      "source": [
        "#caluclate rating for army of dead \n",
        "positive_army , negative_army = count(army_of_dead_prediction_round)\n",
        "army_of_dead_rating = round(rating(positive_army,negative_army,army_of_dead_prediction_round),2)"
      ],
      "execution_count": null,
      "outputs": []
    },
    {
      "cell_type": "code",
      "metadata": {
        "id": "ms9ihUx4rmjZ"
      },
      "source": [
        "#calculate rating for woman in window \n",
        "positive_wiw , negative_wiw = count(woman_in_window_prediction_round)\n",
        "woman_in_window_rating = round(rating(positive_wiw,negative_wiw,woman_in_window_prediction_round),2)"
      ],
      "execution_count": null,
      "outputs": []
    },
    {
      "cell_type": "code",
      "metadata": {
        "id": "fJJ8N7wdr3kT"
      },
      "source": [
        "#caluclate rating for spiderman homecoming \n",
        "positive_sp , negative_sp = count(spiderman_homecoming_prediction_round)\n",
        "spiderman_homecoming_rating = round(rating(positive_sp,negative_sp,spiderman_homecoming_prediction_round),2)"
      ],
      "execution_count": null,
      "outputs": []
    },
    {
      "cell_type": "code",
      "metadata": {
        "id": "9MdIrg08t64w"
      },
      "source": [
        "#calculate rating for the dark knight \n",
        "positive_dk , negative_dk = count(dark_knight_prediction_round)\n",
        "dark_knight_rating = round(rating(positive_dk,negative_dk,dark_knight_prediction_round),2)"
      ],
      "execution_count": null,
      "outputs": []
    },
    {
      "cell_type": "code",
      "metadata": {
        "id": "hoiZZ_9xuWbS"
      },
      "source": [
        "#calculate rating for mortal kombat \n",
        "positive_mk , negative_mk = count(mortal_kombat_prediction_round)\n",
        "mortal_kombat_rating = round(rating(positive_mk,negative_mk,mortal_kombat_prediction_round),2)"
      ],
      "execution_count": null,
      "outputs": []
    },
    {
      "cell_type": "code",
      "metadata": {
        "id": "fnfl4UTXvDUl"
      },
      "source": [
        "#calculate rating for the hitman's body guard \n",
        "positive_hitman , negative_hitman = count(the_hitman_prediction_round)\n",
        "the_hitman_rating = round(rating(positive_hitman,negative_hitman,the_hitman_prediction_round),2)"
      ],
      "execution_count": null,
      "outputs": []
    },
    {
      "cell_type": "code",
      "metadata": {
        "id": "tOfvD51ovVYE"
      },
      "source": [
        "#calculate rating for watchmen \n",
        "positive_watchmen , negative_watchmen = count(watchmen_prediction_round)\n",
        "watchmen_rating = round(rating(positive_watchmen,negative_watchmen,watchmen_prediction_round),2)"
      ],
      "execution_count": null,
      "outputs": []
    },
    {
      "cell_type": "code",
      "metadata": {
        "id": "kHJgJneJyWwe",
        "colab": {
          "base_uri": "https://localhost:8080/"
        },
        "outputId": "62a91edf-eed2-45bc-811d-1b9ada442a28"
      },
      "source": [
        "print(\"<--------------------------------------------------------->\")\n",
        "print(\"Love and monsters rating ==>\",love_and_monsters_rating)\n",
        "print(\"<--------------------------------------------------------->\")\n",
        "print(\"Interstellar rating ==>\",interstellar_rating)\n",
        "print(\"<--------------------------------------------------------->\")\n",
        "print(\"John wick rating ==>\",john_wick_rating)\n",
        "print(\"<--------------------------------------------------------->\")\n",
        "print(\"Army of dead rating ==>\",army_of_dead_rating)\n",
        "print(\"<--------------------------------------------------------->\")\n",
        "print(\"The woman in window rating ==>\",woman_in_window_rating)\n",
        "print(\"<--------------------------------------------------------->\")\n",
        "print(\"Spiderman homecoming rating ==>\",spiderman_homecoming_rating)\n",
        "print(\"<--------------------------------------------------------->\")\n",
        "print(\"The dark knight rating ==>\",dark_knight_rating)\n",
        "print(\"<--------------------------------------------------------->\")\n",
        "print(\"Mortal Kombat rating ==>\",mortal_kombat_rating)\n",
        "print(\"<--------------------------------------------------------->\")\n",
        "print(\"The hitman's body guard rating ==>\",the_hitman_rating)\n",
        "print(\"<--------------------------------------------------------->\")\n",
        "print(\"Watchmen rating ==>\",watchmen_rating)\n",
        "print(\"<--------------------------------------------------------->\")"
      ],
      "execution_count": null,
      "outputs": [
        {
          "output_type": "stream",
          "text": [
            "<--------------------------------------------------------->\n",
            "Love and monsters rating ==> 8.24\n",
            "<--------------------------------------------------------->\n",
            "Interstellar rating ==> 7.64\n",
            "<--------------------------------------------------------->\n",
            "John wick rating ==> 7.21\n",
            "<--------------------------------------------------------->\n",
            "Army of dead rating ==> 7.07\n",
            "<--------------------------------------------------------->\n",
            "The woman in window rating ==> 6.89\n",
            "<--------------------------------------------------------->\n",
            "Spiderman homecoming rating ==> 8.17\n",
            "<--------------------------------------------------------->\n",
            "The dark knight rating ==> 8.25\n",
            "<--------------------------------------------------------->\n",
            "Mortal Kombat rating ==> 6.71\n",
            "<--------------------------------------------------------->\n",
            "The hitman's body guard rating ==> 6.71\n",
            "<--------------------------------------------------------->\n",
            "Watchmen rating ==> 7.14\n",
            "<--------------------------------------------------------->\n"
          ],
          "name": "stdout"
        }
      ]
    },
    {
      "cell_type": "markdown",
      "metadata": {
        "id": "cbIFtylH_zjo"
      },
      "source": [
        ""
      ]
    },
    {
      "cell_type": "code",
      "metadata": {
        "id": "c43WjtGgJu5B"
      },
      "source": [
        "#create a data frame to store the rating and movies \n",
        "df_rank = pd.DataFrame()\n",
        "df_rank['movies'] = ['Love and Monsters','Interstellar','John Wick','Army of Dead','The woman in window','Spiderman Homecoming','The Dark Knight','Mortal Kombat','The Hitman Body Guard','Watchmen']\n",
        "df_rank['rating'] = [love_and_monsters_rating,interstellar_rating,john_wick_rating,army_of_dead_rating,woman_in_window_rating,spiderman_homecoming_rating,dark_knight_rating,mortal_kombat_rating,the_hitman_rating,watchmen_rating]"
      ],
      "execution_count": null,
      "outputs": []
    },
    {
      "cell_type": "code",
      "metadata": {
        "id": "SoEs6BlILcMx"
      },
      "source": [
        "#sort the values \n",
        "df_rank_sorted = df_rank.sort_values(by = 'rating',ascending=False)"
      ],
      "execution_count": null,
      "outputs": []
    },
    {
      "cell_type": "code",
      "metadata": {
        "id": "E_fHN21VqXY9",
        "colab": {
          "base_uri": "https://localhost:8080/",
          "height": 363
        },
        "outputId": "696910eb-9d0a-4fda-cac9-fb91fd4e5032"
      },
      "source": [
        "df_rank_sorted "
      ],
      "execution_count": null,
      "outputs": [
        {
          "output_type": "execute_result",
          "data": {
            "text/html": [
              "<div>\n",
              "<style scoped>\n",
              "    .dataframe tbody tr th:only-of-type {\n",
              "        vertical-align: middle;\n",
              "    }\n",
              "\n",
              "    .dataframe tbody tr th {\n",
              "        vertical-align: top;\n",
              "    }\n",
              "\n",
              "    .dataframe thead th {\n",
              "        text-align: right;\n",
              "    }\n",
              "</style>\n",
              "<table border=\"1\" class=\"dataframe\">\n",
              "  <thead>\n",
              "    <tr style=\"text-align: right;\">\n",
              "      <th></th>\n",
              "      <th>movies</th>\n",
              "      <th>rating</th>\n",
              "    </tr>\n",
              "  </thead>\n",
              "  <tbody>\n",
              "    <tr>\n",
              "      <th>6</th>\n",
              "      <td>The Dark Knight</td>\n",
              "      <td>8.25</td>\n",
              "    </tr>\n",
              "    <tr>\n",
              "      <th>0</th>\n",
              "      <td>Love and Monsters</td>\n",
              "      <td>8.24</td>\n",
              "    </tr>\n",
              "    <tr>\n",
              "      <th>5</th>\n",
              "      <td>Spiderman Homecoming</td>\n",
              "      <td>8.17</td>\n",
              "    </tr>\n",
              "    <tr>\n",
              "      <th>1</th>\n",
              "      <td>Interstellar</td>\n",
              "      <td>7.64</td>\n",
              "    </tr>\n",
              "    <tr>\n",
              "      <th>2</th>\n",
              "      <td>John Wick</td>\n",
              "      <td>7.21</td>\n",
              "    </tr>\n",
              "    <tr>\n",
              "      <th>9</th>\n",
              "      <td>Watchmen</td>\n",
              "      <td>7.14</td>\n",
              "    </tr>\n",
              "    <tr>\n",
              "      <th>3</th>\n",
              "      <td>Army of Dead</td>\n",
              "      <td>7.07</td>\n",
              "    </tr>\n",
              "    <tr>\n",
              "      <th>4</th>\n",
              "      <td>The woman in window</td>\n",
              "      <td>6.89</td>\n",
              "    </tr>\n",
              "    <tr>\n",
              "      <th>7</th>\n",
              "      <td>Mortal Kombat</td>\n",
              "      <td>6.71</td>\n",
              "    </tr>\n",
              "    <tr>\n",
              "      <th>8</th>\n",
              "      <td>The Hitman Body Guard</td>\n",
              "      <td>6.71</td>\n",
              "    </tr>\n",
              "  </tbody>\n",
              "</table>\n",
              "</div>"
            ],
            "text/plain": [
              "                  movies  rating\n",
              "6        The Dark Knight    8.25\n",
              "0      Love and Monsters    8.24\n",
              "5   Spiderman Homecoming    8.17\n",
              "1           Interstellar    7.64\n",
              "2              John Wick    7.21\n",
              "9               Watchmen    7.14\n",
              "3           Army of Dead    7.07\n",
              "4    The woman in window    6.89\n",
              "7          Mortal Kombat    6.71\n",
              "8  The Hitman Body Guard    6.71"
            ]
          },
          "metadata": {
            "tags": []
          },
          "execution_count": 231
        }
      ]
    },
    {
      "cell_type": "code",
      "metadata": {
        "id": "n-hvQY_2K3hu",
        "colab": {
          "base_uri": "https://localhost:8080/",
          "height": 358
        },
        "outputId": "d7ce911b-2906-42ff-e60e-fbbc8f78983f"
      },
      "source": [
        "def addlabels(x,y):\n",
        "    for i in range(len(y)):\n",
        "        ax.text(9.2-(9-x[i]), y[i], x[i], ha = 'center',\n",
        "                 Bbox = dict(facecolor = 'tan', alpha =.8))\n",
        "  \n",
        "\n",
        "np.random.seed(1201546)\n",
        "fig , ax = plt.subplots(1,1)\n",
        "xtick = [0,1,2,3,4,5,6,7,8]\n",
        "ax.barh(df_rank_sorted['movies'], df_rank_sorted['rating'], align='center',color=['darkolivegreen','red','slateblue','yellowgreen','green','orange','limegreen','darkred','gold','salmon'])\n",
        "ax.set_yticks(df_rank_sorted['movies'])\n",
        "ax.set_xticklabels(xtick,fontsize=15)\n",
        "ax.set_yticklabels(df_rank_sorted['movies'],fontsize=15)\n",
        "ax.invert_yaxis()  # labels read top-to-bottom\n",
        "addlabels(df_rank_sorted['rating'],df_rank_sorted['movies'])\n",
        "ax.set_xlabel('Ratings')\n",
        "ax.set_title('Movie Ratings')\n",
        "fig.set_size_inches(18,8)\n",
        "plt.style.use('fivethirtyeight')\n",
        "plt.show()\n"
      ],
      "execution_count": null,
      "outputs": [
        {
          "output_type": "display_data",
          "data": {
            "image/png": "[encoded data removed]",
            "text/plain": [
              "<Figure size 1296x576 with 1 Axes>"
            ]
          },
          "metadata": {
            "tags": []
          }
        }
      ]
    },
    {
      "cell_type": "code",
      "metadata": {
        "id": "CLdYAGN7INtT"
      },
      "source": [
        ""
      ],
      "execution_count": null,
      "outputs": []
    }
  ]
}